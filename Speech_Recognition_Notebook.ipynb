{
  "nbformat": 4,
  "nbformat_minor": 0,
  "metadata": {
    "colab": {
      "provenance": [],
      "mount_file_id": "1z0lwNuxB6eCHEilEgJ-snXvMOyOjo2gv",
      "authorship_tag": "ABX9TyNITQRoHPn83Ruz+4dDeHeP",
      "include_colab_link": true
    },
    "kernelspec": {
      "name": "python3",
      "display_name": "Python 3"
    },
    "language_info": {
      "name": "python"
    }
  },
  "cells": [
    {
      "cell_type": "markdown",
      "metadata": {
        "id": "view-in-github",
        "colab_type": "text"
      },
      "source": [
        "<a href=\"https://colab.research.google.com/github/CamiloAndresDG/AereoUSB/blob/main/Speech_Recognition_Notebook.ipynb\" target=\"_parent\"><img src=\"https://colab.research.google.com/assets/colab-badge.svg\" alt=\"Open In Colab\"/></a>"
      ]
    },
    {
      "cell_type": "markdown",
      "source": [
        "**Importación de las librerías**"
      ],
      "metadata": {
        "id": "SJTYdhsjcsrD"
      }
    },
    {
      "cell_type": "code",
      "execution_count": null,
      "metadata": {
        "colab": {
          "base_uri": "https://localhost:8080/"
        },
        "id": "fYhqgYaLX888",
        "outputId": "b765b10a-58e9-4a6d-b852-6ce5b8b23836"
      },
      "outputs": [
        {
          "output_type": "stream",
          "name": "stdout",
          "text": [
            "Collecting SpeechRecognition\n",
            "  Downloading SpeechRecognition-3.10.0-py2.py3-none-any.whl (32.8 MB)\n",
            "\u001b[2K     \u001b[90m━━━━━━━━━━━━━━━━━━━━━━━━━━━━━━━━━━━━━━━━\u001b[0m \u001b[32m32.8/32.8 MB\u001b[0m \u001b[31m35.2 MB/s\u001b[0m eta \u001b[36m0:00:00\u001b[0m\n",
            "\u001b[?25hRequirement already satisfied: requests>=2.26.0 in /usr/local/lib/python3.10/dist-packages (from SpeechRecognition) (2.31.0)\n",
            "Requirement already satisfied: charset-normalizer<4,>=2 in /usr/local/lib/python3.10/dist-packages (from requests>=2.26.0->SpeechRecognition) (3.2.0)\n",
            "Requirement already satisfied: idna<4,>=2.5 in /usr/local/lib/python3.10/dist-packages (from requests>=2.26.0->SpeechRecognition) (3.4)\n",
            "Requirement already satisfied: urllib3<3,>=1.21.1 in /usr/local/lib/python3.10/dist-packages (from requests>=2.26.0->SpeechRecognition) (2.0.4)\n",
            "Requirement already satisfied: certifi>=2017.4.17 in /usr/local/lib/python3.10/dist-packages (from requests>=2.26.0->SpeechRecognition) (2023.7.22)\n",
            "Installing collected packages: SpeechRecognition\n",
            "Successfully installed SpeechRecognition-3.10.0\n"
          ]
        }
      ],
      "source": [
        "pip install SpeechRecognition"
      ]
    },
    {
      "cell_type": "code",
      "source": [
        "import speech_recognition as sr\n",
        "import subprocess\n",
        "import os"
      ],
      "metadata": {
        "id": "Gh2NWnRdaAoC"
      },
      "execution_count": null,
      "outputs": []
    },
    {
      "cell_type": "code",
      "source": [
        "sr.__version__"
      ],
      "metadata": {
        "colab": {
          "base_uri": "https://localhost:8080/",
          "height": 35
        },
        "id": "7OJjHZKjaQtd",
        "outputId": "2c2d6de2-555a-40f1-c5c9-b0af58ddbda3"
      },
      "execution_count": null,
      "outputs": [
        {
          "output_type": "execute_result",
          "data": {
            "text/plain": [
              "'3.10.0'"
            ],
            "application/vnd.google.colaboratory.intrinsic+json": {
              "type": "string"
            }
          },
          "metadata": {},
          "execution_count": 4
        }
      ]
    },
    {
      "cell_type": "code",
      "source": [
        "!python --version"
      ],
      "metadata": {
        "colab": {
          "base_uri": "https://localhost:8080/"
        },
        "id": "s2VpXY_sazxB",
        "outputId": "be7d3b23-3538-4b69-a000-b7e8c678c399"
      },
      "execution_count": null,
      "outputs": [
        {
          "output_type": "stream",
          "name": "stdout",
          "text": [
            "Python 3.10.12\n"
          ]
        }
      ]
    },
    {
      "cell_type": "markdown",
      "source": [
        "**Leer archivo de audio**\n",
        "\n"
      ],
      "metadata": {
        "id": "F3-DWIQpc5S4"
      }
    },
    {
      "cell_type": "code",
      "source": [
        "r = sr.Recognizer()"
      ],
      "metadata": {
        "id": "w-Ub45J0bt3e"
      },
      "execution_count": null,
      "outputs": []
    },
    {
      "cell_type": "code",
      "source": [
        "def convert_file(initial_file, final_file):\n",
        "  # Parametros\n",
        "  # ffmpeg:  El nombre del comando que se ejecutará.\n",
        "  # '-i': Un argumento para especificar el archivo de entrada.\n",
        "  #'transcript.mp3': El nombre del archivo de entrada que se desea convertir.\n",
        "  #'test.wav': El nombre del archivo de salida resultante.\n",
        "  subprocess.call(['ffmpeg', '-i', initial_file,\n",
        "                  final_file])\n",
        "\n",
        "  print(\"....Finalizado....\")"
      ],
      "metadata": {
        "id": "ZLsq3NkAsuau"
      },
      "execution_count": null,
      "outputs": []
    },
    {
      "cell_type": "code",
      "source": [
        "# Hay dos librerías para poder convertir audios, esta pydub y subprocess\n",
        "# En estecaso se usara subprocess ya que da mas parametros para alterar la conversión.\n",
        "def validate_extension(record_path):\n",
        "\n",
        "  file_name, extension = os.path.splitext(record_path)\n",
        "\n",
        "  if extension == \".mp3\" or extension == \".ogg\" or extension == \".flv\":\n",
        "    print(f\"The file {file_name} has the extension {extension}, so it will be converted to .wav extension.\")\n",
        "\n",
        "    initial_file = file_name + '.mp3'\n",
        "    final_file = file_name + '.wav'\n",
        "\n",
        "    convert_file(initial_file, final_file)\n"
      ],
      "metadata": {
        "id": "OAcLi8a7fgEW"
      },
      "execution_count": null,
      "outputs": []
    },
    {
      "cell_type": "code",
      "source": [
        "validate_extension('/content/drive/MyDrive/Data Science Projects/Speech_Recognition/WhatsApp-Ptt-2023-08-13-at-9.12.56-PM.mp3')"
      ],
      "metadata": {
        "colab": {
          "base_uri": "https://localhost:8080/"
        },
        "id": "92f298rudFxp",
        "outputId": "bf197b6d-353e-4dc2-b92d-cbadae693e78"
      },
      "execution_count": null,
      "outputs": [
        {
          "output_type": "stream",
          "name": "stdout",
          "text": [
            "The file /content/drive/MyDrive/Data Science Projects/Speech_Recognition/WhatsApp-Ptt-2023-08-13-at-9.12.56-PM has the extension .mp3, so it will be converted to .wav extension.\n",
            "....Finalizado....\n"
          ]
        }
      ]
    },
    {
      "cell_type": "code",
      "source": [
        "audio = sr.AudioFile('/content/drive/MyDrive/Data Science Projects/Speech_Recognition/WhatsApp-Ptt-2023-08-13-at-9.12.56-PM.wav')\n",
        "with audio as source:\n",
        "  audio = r.record(source)"
      ],
      "metadata": {
        "id": "isDV8eiRumkK"
      },
      "execution_count": null,
      "outputs": []
    },
    {
      "cell_type": "code",
      "source": [
        "r.recognize_google(audio)"
      ],
      "metadata": {
        "colab": {
          "base_uri": "https://localhost:8080/",
          "height": 35
        },
        "id": "fCRH4qIsz2Ip",
        "outputId": "b61d1840-7ebc-408e-8f43-369fea5a85d1"
      },
      "execution_count": null,
      "outputs": [
        {
          "output_type": "execute_result",
          "data": {
            "text/plain": [
              "'hola hola Mi nombre es Camilo'"
            ],
            "application/vnd.google.colaboratory.intrinsic+json": {
              "type": "string"
            }
          },
          "metadata": {},
          "execution_count": 12
        }
      ]
    },
    {
      "cell_type": "code",
      "source": [],
      "metadata": {
        "id": "nU0V7a8Zz748"
      },
      "execution_count": null,
      "outputs": []
    }
  ]
}